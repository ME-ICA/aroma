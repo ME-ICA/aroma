{
 "cells": [
  {
   "cell_type": "code",
   "execution_count": 1,
   "metadata": {},
   "outputs": [],
   "source": [
    "import os.path as op\n",
    "from aroma import aroma, utils\n",
    "from nilearn.datasets import fetch_development_fmri\n",
    "from nilearn import image\n",
    "\n",
    "import pandas as pd"
   ]
  },
  {
   "cell_type": "code",
   "execution_count": 2,
   "metadata": {},
   "outputs": [],
   "source": [
    "data = fetch_development_fmri(n_subjects=1)\n",
    "func_file = data[\"func\"][0]\n",
    "confounds = data[\"confounds\"][0]"
   ]
  },
  {
   "cell_type": "code",
   "execution_count": 3,
   "metadata": {},
   "outputs": [],
   "source": [
    "out_dir = op.abspath(\"./results\")\n",
    "in_file = op.join(out_dir, \"smoothed_data.nii.gz\")\n",
    "mc_file = op.join(out_dir, \"mc.txt\")\n",
    "aroma_output_dir = op.join(out_dir, \"aroma-results\")"
   ]
  },
  {
   "cell_type": "code",
   "execution_count": 4,
   "metadata": {},
   "outputs": [],
   "source": [
    "smooth_img = image.smooth_img(func_file, fwhm=8)\n",
    "smooth_img.to_filename(in_file)"
   ]
  },
  {
   "cell_type": "code",
   "execution_count": 5,
   "metadata": {},
   "outputs": [],
   "source": [
    "df = pd.read_table(confounds)\n",
    "motpars = df[[\"rot_x\", \"rot_y\", \"rot_z\", \"trans_x\", \"trans_y\", \"trans_z\"]]\n",
    "motpars.to_csv(mc_file, sep=\"\\t\", index=False, header=None)"
   ]
  },
  {
   "cell_type": "code",
   "execution_count": 6,
   "metadata": {},
   "outputs": [
    {
     "name": "stdout",
     "output_type": "stream",
     "text": [
      "\n",
      "------------------------ RUNNING ICA-AROMA ------------------------\n",
      "-------- 'ICA-based Automatic Removal Of Motion Artifacts' --------\n",
      "\n",
      "Warning! Output directory /Users/tsalo/Documents/tsalo/ica-aroma-org/examples/results/aroma-results exists and will be overwritten.\n",
      "\n",
      "Step 1) ICA\n",
      "25 components retained by PCA\n",
      "Step 2) Automatic classification of the components\n",
      "  - registering the spatial maps to MNI\n",
      "  - extracting the CSF & Edge fraction features\n",
      "edge_fract: (25,)\n",
      "csf_fract: (25,)\n",
      "  - extracting the Maximum RP correlation feature\n"
     ]
    },
    {
     "name": "stderr",
     "output_type": "stream",
     "text": [
      "In /Users/tsalo/anaconda/envs/python3/lib/python3.6/site-packages/matplotlib/mpl-data/stylelib/_classic_test.mplstyle: \n",
      "The savefig.frameon rcparam was deprecated in Matplotlib 3.1 and will be removed in 3.3.\n",
      "In /Users/tsalo/anaconda/envs/python3/lib/python3.6/site-packages/matplotlib/mpl-data/stylelib/_classic_test.mplstyle: \n",
      "The verbose.level rcparam was deprecated in Matplotlib 3.1 and will be removed in 3.3.\n",
      "In /Users/tsalo/anaconda/envs/python3/lib/python3.6/site-packages/matplotlib/mpl-data/stylelib/_classic_test.mplstyle: \n",
      "The verbose.fileo rcparam was deprecated in Matplotlib 3.1 and will be removed in 3.3.\n"
     ]
    },
    {
     "name": "stdout",
     "output_type": "stream",
     "text": [
      "max_RP_corr: (25,)\n",
      "  - extracting the High-frequency content feature\n",
      "HFC: (25,)\n",
      "  - classification\n",
      "Found 1 file(s)\n",
      "Found 6 head motion-related components in a total of 25 components.\n",
      "Step 3) Data denoising\n",
      "Finished\n"
     ]
    }
   ],
   "source": [
    "aroma.aroma_workflow(\n",
    "    in_file=in_file, mc=mc_file, out_dir=aroma_output_dir, \n",
    "    TR=2., den_type=\"both\",\n",
    "    dim=-1, overwrite=True, generate_plots=True, \n",
    ")"
   ]
  }
 ],
 "metadata": {
  "kernelspec": {
   "display_name": "Python [conda env:python3]",
   "language": "python",
   "name": "conda-env-python3-py"
  },
  "language_info": {
   "codemirror_mode": {
    "name": "ipython",
    "version": 3
   },
   "file_extension": ".py",
   "mimetype": "text/x-python",
   "name": "python",
   "nbconvert_exporter": "python",
   "pygments_lexer": "ipython3",
   "version": "3.6.4"
  }
 },
 "nbformat": 4,
 "nbformat_minor": 2
}
